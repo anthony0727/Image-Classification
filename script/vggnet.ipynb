{
 "cells": [
  {
   "cell_type": "code",
   "execution_count": null,
   "metadata": {
    "collapsed": true
   },
   "outputs": [],
   "source": [
    "\"\"\"\n",
    "this file is to be presented in .ipynb format\n",
    "\"\"\"\n",
    "\n",
    "import gc\n",
    "\n",
    "import os\n",
    "from model.vggnet import VGGNet\n",
    "from data import Cifar, generator\n",
    "\n",
    "import tensorflow as tf\n",
    "import numpy as np\n",
    "import numpy.random as npr\n",
    "\n",
    "OPTIMIZERS = {\n",
    "    'adam': tf.train.AdamOptimizer,\n",
    "    'momentum': tf.train.MomentumOptimizer\n",
    "}\n",
    "\n",
    "# hparam\n",
    "batch_size = 100\n",
    "min_loss = 1000000.0\n",
    "learning_rate = 0.0005\n",
    "epochs = 10000\n",
    "\n",
    "ROOT = '.'\n",
    "\n",
    "\n",
    "def train(network, data, optimizer='momentum'):\n",
    "    return network\n",
    "\n",
    "\n",
    "if __name__ == '__main__':\n",
    "    data = Cifar10()  # data class\n",
    "\n",
    "    net = VGGNet(11)\n",
    "    net.build()\n",
    "    \n",
    "    pretrained_net = train(net, data)\n",
    "    pretrained_net.show()  # tensorboard\n",
    "\n",
    "    reconstructed_net = VGGNet(13)\n",
    "\n",
    "    reconstructed_net.transfer(pretrained_net)\n",
    "\n",
    "    del pretrained_net\n",
    "    gc.collect()\n",
    "\n",
    "    reconstructed_net = train(reconstructed_net, data, 'adam')\n",
    "    # reconstructed_net.show() tensorboard\n"
   ]
  }
 ],
 "metadata": {
  "kernelspec": {
   "display_name": "Python 2",
   "language": "python",
   "name": "python2"
  },
  "language_info": {
   "codemirror_mode": {
    "name": "ipython",
    "version": 2
   },
   "file_extension": ".py",
   "mimetype": "text/x-python",
   "name": "python",
   "nbconvert_exporter": "python",
   "pygments_lexer": "ipython2",
   "version": "2.7.6"
  }
 },
 "nbformat": 4,
 "nbformat_minor": 0
}
