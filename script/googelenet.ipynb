{
 "cells": [
  {
   "cell_type": "code",
   "execution_count": null,
   "metadata": {},
   "outputs": [],
   "source": [
    "import tensorflow as tf\n",
    "from tqdm import tqdm\n",
    "\n",
    "from model.googlenet import GoogLeNet\n",
    "\n",
    "net = GoogLeNet()\n",
    "net.build((32, 32, 3), 100)\n",
    "net.train_writer.add_graph(net.graph)\n",
    "\n",
    "from data import Cifar, generator, images_augmentation\n",
    "\n",
    "num_epoch = 100\n",
    "num_batch = 128\n",
    "\n",
    "cifar = Cifar(100)\n",
    "gen = generator(cifar.x_train, cifar.y_train, num_batch)\n",
    "\n",
    "sess = tf.Session(graph=net.graph)\n",
    "print(cifar.x_train.shape)\n",
    "with net.graph.as_default():\n",
    "    global_step = tf.train.get_or_create_global_step()\n",
    "    train_op = tf.train.MomentumOptimizer(net.lr, 0.9).minimize(net.loss, global_step=global_step)\n",
    "    sess.run([tf.global_variables_initializer(), tf.local_variables_initializer()])\n",
    "\n",
    "    for epoch in range(num_epoch):\n",
    "        for step in tqdm(range(len(cifar.x_train) // num_batch)):\n",
    "            batch_x, batch_y = next(gen)\n",
    "            print(batch_x.shape)\n",
    "            batch_x = sess.run(images_augmentation(batch_x, is_train=net.is_train))\n",
    "\n",
    "            sess.run(train_op, feed_dict={net.xs: batch_x, net.ys: batch_y, net.lr: 0.01, net.is_train: True})\n"
   ]
  }
 ],
 "metadata": {
  "kernelspec": {
   "name": "python36",
   "display_name": "Python 3.6",
   "language": "python"
  },
  "language_info": {
   "mimetype": "text/x-python",
   "nbconvert_exporter": "python",
   "name": "python",
   "pygments_lexer": "ipython3",
   "version": "3.6.6",
   "file_extension": ".py",
   "codemirror_mode": {
    "version": 3,
    "name": "ipython"
   }
  }
 },
 "nbformat": 4,
 "nbformat_minor": 1
}
